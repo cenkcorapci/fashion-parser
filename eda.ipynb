{
 "cells": [
  {
   "cell_type": "code",
   "execution_count": 2,
   "metadata": {},
   "outputs": [],
   "source": [
    "import json\n",
    "from commons.config import MODANET_TRAIN_PATH, MODANET_TEST_PATH"
   ]
  },
  {
   "cell_type": "code",
   "execution_count": 5,
   "metadata": {},
   "outputs": [],
   "source": [
    "loaded_json = None\n",
    "with open(MODANET_TRAIN_PATH, 'r') as f:\n",
    "    json_data = f.read().replace('\\n', '')\n",
    "    loaded_json = json.loads(json_data)"
   ]
  },
  {
   "cell_type": "code",
   "execution_count": 16,
   "metadata": {},
   "outputs": [
    {
     "name": "stdout",
     "output_type": "stream",
     "text": [
      "year\n",
      "images\n",
      "info\n",
      "categories\n",
      "licenses\n",
      "type\n",
      "annotations\n"
     ]
    }
   ],
   "source": [
    "for k, _ in loaded_json.items():\n",
    "    print(k)"
   ]
  },
  {
   "cell_type": "code",
   "execution_count": 21,
   "metadata": {},
   "outputs": [
    {
     "data": {
      "text/plain": [
       "{'file_name': '0736791.jpg',\n",
       " 'height': 600,\n",
       " 'id': 736791,\n",
       " 'license': 3,\n",
       " 'width': 400}"
      ]
     },
     "execution_count": 21,
     "metadata": {},
     "output_type": "execute_result"
    }
   ],
   "source": [
    "loaded_json['images'][0]"
   ]
  },
  {
   "cell_type": "code",
   "execution_count": 22,
   "metadata": {},
   "outputs": [
    {
     "data": {
      "text/plain": [
       "52377"
      ]
     },
     "execution_count": 22,
     "metadata": {},
     "output_type": "execute_result"
    }
   ],
   "source": [
    "len(loaded_json['images'])"
   ]
  },
  {
   "cell_type": "code",
   "execution_count": 25,
   "metadata": {},
   "outputs": [
    {
     "data": {
      "text/plain": [
       "[{'id': 1, 'name': 'bag', 'supercategory': 'fashion'},\n",
       " {'id': 2, 'name': 'belt', 'supercategory': 'fashion'},\n",
       " {'id': 3, 'name': 'boots', 'supercategory': 'fashion'},\n",
       " {'id': 4, 'name': 'footwear', 'supercategory': 'fashion'},\n",
       " {'id': 5, 'name': 'outer', 'supercategory': 'fashion'},\n",
       " {'id': 6, 'name': 'dress', 'supercategory': 'fashion'},\n",
       " {'id': 7, 'name': 'sunglasses', 'supercategory': 'fashion'},\n",
       " {'id': 8, 'name': 'pants', 'supercategory': 'fashion'},\n",
       " {'id': 9, 'name': 'top', 'supercategory': 'fashion'},\n",
       " {'id': 10, 'name': 'shorts', 'supercategory': 'fashion'},\n",
       " {'id': 11, 'name': 'skirt', 'supercategory': 'fashion'},\n",
       " {'id': 12, 'name': 'headwear', 'supercategory': 'fashion'},\n",
       " {'id': 13, 'name': 'scarf/tie', 'supercategory': 'fashion'}]"
      ]
     },
     "execution_count": 25,
     "metadata": {},
     "output_type": "execute_result"
    }
   ],
   "source": [
    "loaded_json['categories']"
   ]
  },
  {
   "cell_type": "code",
   "execution_count": 26,
   "metadata": {},
   "outputs": [
    {
     "data": {
      "text/plain": [
       "265705"
      ]
     },
     "execution_count": 26,
     "metadata": {},
     "output_type": "execute_result"
    }
   ],
   "source": [
    "len(loaded_json['annotations'])"
   ]
  },
  {
   "cell_type": "code",
   "execution_count": 23,
   "metadata": {},
   "outputs": [
    {
     "data": {
      "text/plain": [
       "{'area': 1746,\n",
       " 'bbox': [160, 247, 97, 18],\n",
       " 'category_id': 2,\n",
       " 'id': 0,\n",
       " 'image_id': 736791,\n",
       " 'iscrowd': 0,\n",
       " 'segmentation': [[161,\n",
       "   248,\n",
       "   170,\n",
       "   248,\n",
       "   173,\n",
       "   249,\n",
       "   189,\n",
       "   251,\n",
       "   199,\n",
       "   252,\n",
       "   199,\n",
       "   250,\n",
       "   212,\n",
       "   250,\n",
       "   212,\n",
       "   252,\n",
       "   224,\n",
       "   253,\n",
       "   239,\n",
       "   251,\n",
       "   248,\n",
       "   250,\n",
       "   257,\n",
       "   247,\n",
       "   257,\n",
       "   253,\n",
       "   249,\n",
       "   255,\n",
       "   248,\n",
       "   260,\n",
       "   248,\n",
       "   265,\n",
       "   228,\n",
       "   264,\n",
       "   215,\n",
       "   264,\n",
       "   200,\n",
       "   264,\n",
       "   196,\n",
       "   261,\n",
       "   189,\n",
       "   260,\n",
       "   182,\n",
       "   259,\n",
       "   171,\n",
       "   259,\n",
       "   164,\n",
       "   255,\n",
       "   160,\n",
       "   254,\n",
       "   161,\n",
       "   254]]}"
      ]
     },
     "execution_count": 23,
     "metadata": {},
     "output_type": "execute_result"
    }
   ],
   "source": [
    "loaded_json['annotations'][0]"
   ]
  },
  {
   "cell_type": "code",
   "execution_count": null,
   "metadata": {},
   "outputs": [],
   "source": []
  },
  {
   "cell_type": "code",
   "execution_count": null,
   "metadata": {},
   "outputs": [],
   "source": []
  }
 ],
 "metadata": {
  "kernelspec": {
   "display_name": "Python 3",
   "language": "python",
   "name": "python3"
  },
  "language_info": {
   "codemirror_mode": {
    "name": "ipython",
    "version": 3
   },
   "file_extension": ".py",
   "mimetype": "text/x-python",
   "name": "python",
   "nbconvert_exporter": "python",
   "pygments_lexer": "ipython3",
   "version": "3.5.0"
  }
 },
 "nbformat": 4,
 "nbformat_minor": 1
}
